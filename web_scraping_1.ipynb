{
 "cells": [
  {
   "cell_type": "code",
   "execution_count": 1,
   "metadata": {},
   "outputs": [],
   "source": [
    "import requests\n",
    "from bs4  import BeautifulSoup"
   ]
  },
  {
   "cell_type": "code",
   "execution_count": 2,
   "metadata": {},
   "outputs": [
    {
     "name": "stdout",
     "output_type": "stream",
     "text": [
      "<Response [503]>\n"
     ]
    }
   ],
   "source": [
    "url_fiction = \"https://www.goodreads.com/genres/historical-fiction\"\n",
    "url_amazon  = \"https://www.amazon.es/?tag=bingamazoabk-21&hvadid=79852063932248&hvqmt=e&hvbmt=be&hvdev=c&ref=pd_sl_7opjaapkbf_e\"\n",
    "\n",
    "amazon_page = requests.get(url_amazon)\n",
    "am_soup = BeautifulSoup(amazon_page.content, \"html.parser\")\n",
    "\n",
    "print(amazon_page)\n"
   ]
  },
  {
   "cell_type": "code",
   "execution_count": 3,
   "metadata": {},
   "outputs": [
    {
     "name": "stdout",
     "output_type": "stream",
     "text": [
      "by\n",
      "['The East Indian', 'The House Is on Fire', 'How Wendy Redbird Dancing Survived the Dark Ages of Nought']\n",
      "['Brinda Charry', 'Rachel Beanland', 'Lyn Fairchild Hawks']\n",
      "[<a class=\"bookTitle\" href=\"https://www.goodreads.com/book/show/62919367-the-east-indian\">The East Indian</a>, <a class=\"bookTitle\" href=\"https://www.goodreads.com/book/show/61273814-the-house-is-on-fire\">The House Is on Fire</a>, <a class=\"bookTitle\" href=\"https://www.goodreads.com/book/show/123174606-how-wendy-redbird-dancing-survived-the-dark-ages-of-nought\">How Wendy Redbird Dancing Survived the Dark Ages of Nought</a>]\n",
      "The East Indian\n",
      "The House Is on Fire\n",
      "How Wendy Redbird Dancing Survived the Dark Ages of Nought\n"
     ]
    }
   ],
   "source": [
    "\n",
    "page = requests.get(url_fiction)\n",
    "\n",
    "soup = BeautifulSoup(page.content, \"html.parser\")\n",
    "book_title = soup.find('a', class_ = \"bookTitle\")\n",
    "book_link = book_title['href']\n",
    "book_page = requests.get(book_link)\n",
    "\n",
    "book_soup = BeautifulSoup(book_page.content, \"html.parser\")\n",
    "title = book_soup.find('h1', class_ = \"gr-h1 gr-h1--serif\")\n",
    "div_content = soup.find_all('div', class_=\"giveawayPreviewBookContainer\")\n",
    "\n",
    "\n",
    "tittles = []\n",
    "authors = []\n",
    "\n",
    "second_div = div_content[0].find('div', class_=\"description descriptionContainer\")\n",
    "\n",
    "third_div = second_div.find('div', id = \"bookAuthors\")\n",
    "\n",
    "spans = third_div.find_all(\"span\")\n",
    "\n",
    "print(spans[0].text)\n",
    "\n",
    "\n",
    "for div in div_content:\n",
    "    book_tittle = div.find('a', class_ = \"bookTitle\")\n",
    "    tittles.append(book_tittle.text)\n",
    "    author =  div.find('span', itemprop=\"name\")\n",
    "    authors.append(author.text)\n",
    "print(tittles)\n",
    "print(authors)\n",
    "\n",
    "\n",
    "tittle = soup.find_all('h1', class_=\"left\")\n",
    "\n",
    "book_titles = soup.find_all('a', class_ = \"bookTitle\")\n",
    "print(book_titles)\n",
    "\n",
    "list_of_tittles = []\n",
    "for book in book_titles:\n",
    "    list_of_tittles.append(book.text)\n",
    "\n",
    "\n",
    "for title in list_of_tittles:\n",
    "    print(title)\n"
   ]
  }
 ],
 "metadata": {
  "kernelspec": {
   "display_name": "deeplearning",
   "language": "python",
   "name": "python3"
  },
  "language_info": {
   "codemirror_mode": {
    "name": "ipython",
    "version": 3
   },
   "file_extension": ".py",
   "mimetype": "text/x-python",
   "name": "python",
   "nbconvert_exporter": "python",
   "pygments_lexer": "ipython3",
   "version": "3.8.13"
  },
  "orig_nbformat": 4,
  "vscode": {
   "interpreter": {
    "hash": "6a29e2c6032db948d2ac4841a3008c24c124c9d60225cd5bb2e940e04b511554"
   }
  }
 },
 "nbformat": 4,
 "nbformat_minor": 2
}
