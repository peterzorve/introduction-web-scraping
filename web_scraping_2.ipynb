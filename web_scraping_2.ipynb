{
 "cells": [
  {
   "cell_type": "code",
   "execution_count": 1,
   "metadata": {},
   "outputs": [],
   "source": [
    "from selenium import webdriver\n",
    "from selenium.webdriver.chrome.options import Options\n",
    "from time import sleep\n",
    "from selenium import webdriver\n",
    "from selenium.webdriver.common.by import By\n",
    "from selenium.webdriver.common.keys import Keys\n",
    "from selenium.webdriver.support.ui import WebDriverWait\n",
    "from selenium.webdriver.support import expected_conditions as EC\n",
    "from selenium.webdriver.common.action_chains import ActionChains\n",
    "\n"
   ]
  },
  {
   "cell_type": "code",
   "execution_count": null,
   "metadata": {},
   "outputs": [],
   "source": [
    "page = \"https://forecast.weather.gov/MapClick.php?lat=37.777120000000025&lon=-122.41963999999996\"\n",
    "my_driver = (\"./chromedriver.exe\")\n",
    "\n",
    "\n",
    "driver = webdriver.Chrome(my_driver)\n",
    "driver.create_options()\n",
    "driver.minimize_window()\n",
    "driver.get(page)\n",
    "sleep(3)\n",
    "\n",
    "san_fran = driver.find_element_by_xpath('//h2[@class=\"a-color-base headline truncate-2line\"]')\n",
    "print(san_fran.text)\n",
    "\n",
    "san_fran = driver.find_element_by_xpath('//div[@class=\"panel-body\"]')\n",
    "\n",
    "temp = san_fran.find_elements_by_xpath('//p[@class=\"temp temp-high\"]')\n",
    "\n",
    "for t in temp:\n",
    "    print(t.text)"
   ]
  },
  {
   "cell_type": "code",
   "execution_count": null,
   "metadata": {},
   "outputs": [],
   "source": [
    "\n",
    "from selenium import webdriver\n",
    "from time import sleep\n",
    "\n",
    "url = \"https://www.amazon.es/s?k=laptop&__mk_es_ES=%C3%85M%C3%85%C5%BD%C3%95%C3%91&ref=nb_sb_noss_1\"\n",
    "my_driver = \"chromedriver.exe\"\n",
    "\n",
    "driver = webdriver.Chrome(my_driver)\n",
    "webdriver.c\n",
    "\n",
    "driver.get(url)\n",
    "\n",
    "sleep(3)\n",
    "\n",
    "laptop_price = driver.find_element_by_xpath('//a[@class=\"a-link-normal a-text-normal\"]')\n",
    "laptop_price.click()\n",
    "\n",
    "sleep(1)\n",
    "buy_zone = driver.find_element_by_xpath('//div[@class=\"a-box-inner\"]')\n",
    "\n",
    "id=\"price_inside_buybox\"\n",
    "buy_price = buy_zone.find_element_by_xpath('//span[@id=\"price_inside_buybox\"]')\n",
    "\n",
    "print(buy_price.text)\n"
   ]
  }
 ],
 "metadata": {
  "kernelspec": {
   "display_name": "deeplearning",
   "language": "python",
   "name": "python3"
  },
  "language_info": {
   "codemirror_mode": {
    "name": "ipython",
    "version": 3
   },
   "file_extension": ".py",
   "mimetype": "text/x-python",
   "name": "python",
   "nbconvert_exporter": "python",
   "pygments_lexer": "ipython3",
   "version": "3.8.13"
  },
  "orig_nbformat": 4,
  "vscode": {
   "interpreter": {
    "hash": "6a29e2c6032db948d2ac4841a3008c24c124c9d60225cd5bb2e940e04b511554"
   }
  }
 },
 "nbformat": 4,
 "nbformat_minor": 2
}
